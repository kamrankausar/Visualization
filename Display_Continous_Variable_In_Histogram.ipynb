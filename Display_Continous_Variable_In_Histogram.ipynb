{
 "cells": [
  {
   "cell_type": "code",
   "execution_count": 1,
   "metadata": {
    "collapsed": true
   },
   "outputs": [],
   "source": [
    "import pandas as pd\n",
    "import numpy as np\n",
    "import matplotlib.pyplot as plt\n",
    "import os\n",
    "import seaborn as sns\n",
    "plt.style.use('ggplot')\n",
    "%matplotlib inline"
   ]
  },
  {
   "cell_type": "code",
   "execution_count": null,
   "metadata": {
    "collapsed": true
   },
   "outputs": [],
   "source": [
    "# Sorting the duration so that it can display as it is on graph\n",
    "x_loan_duration = np.sort(loan_rel.duration.unique())\n",
    "x_loan_duration"
   ]
  },
  {
   "cell_type": "code",
   "execution_count": null,
   "metadata": {
    "collapsed": true
   },
   "outputs": [],
   "source": [
    "# This \"sort = False, ascending = False\" will sort on the basis of keys\n",
    "y_loan_duration = loan_rel.duration.value_counts(sort=False, ascending=False)\n",
    "#Then their is no any ploble on the graph"
   ]
  },
  {
   "cell_type": "code",
   "execution_count": null,
   "metadata": {
    "collapsed": true
   },
   "outputs": [],
   "source": [
    "# For bank Type Bar Chart\n",
    "data = [go.Bar(\n",
    "            #x = card_rel.issued_date.unique(),\n",
    "            x = x_loan_duration,\n",
    "            #y = card_rel.issued_date.value_counts() \n",
    "            #y = (y_loan_duration / len(loan_rel.index)) * 100\n",
    "            y = y_loan_duration\n",
    "            \n",
    "    )]\n",
    "\n",
    "layout = go.Layout(\n",
    "        title = '<b>Number of Card issue</b>',\n",
    "        yaxis = dict(\n",
    "                title = '<i>(Count in %)</i>'\n",
    "                ),\n",
    "        xaxis = dict(\n",
    "                title = '<i>(Year)</i>')\n",
    "        \n",
    ") \n",
    "\n",
    "fig = go.Figure(data = data, layout = layout)\n",
    "py.iplot(fig, filename = \"Loan_dyration_bar_final\")"
   ]
  }
 ],
 "metadata": {
  "kernelspec": {
   "display_name": "Python 3",
   "language": "python",
   "name": "python3"
  },
  "language_info": {
   "codemirror_mode": {
    "name": "ipython",
    "version": 2
   },
   "file_extension": ".py",
   "mimetype": "text/x-python",
   "name": "python",
   "nbconvert_exporter": "python",
   "pygments_lexer": "ipython2",
   "version": "2.7.12"
  }
 },
 "nbformat": 4,
 "nbformat_minor": 2
}
