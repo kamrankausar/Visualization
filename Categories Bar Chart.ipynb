{
 "cells": [
  {
   "cell_type": "code",
   "execution_count": 3,
   "metadata": {
    "collapsed": true
   },
   "outputs": [],
   "source": [
    "import pandas as pd\n",
    "import numpy as np\n",
    "import matplotlib.pyplot as plt\n",
    "import os\n",
    "import seaborn as sns\n",
    "plt.style.use('ggplot')\n",
    "%matplotlib inline"
   ]
  },
  {
   "cell_type": "code",
   "execution_count": null,
   "metadata": {
    "collapsed": true
   },
   "outputs": [],
   "source": [
    "#index = np.arange(len(district_rel.A3.unique()))\n",
    "index = np.arange(len(district_rel.A3.unique()))\n",
    "plt.figure(figsize = (25, 25))\n",
    "plt.bar(index, district_rel.A3.value_counts())\n",
    "plt.xlabel('Genre', fontsize=30)\n",
    "plt.ylabel('No of Movies', fontsize=50)\n",
    "plt.xticks(index, district_rel.A12.unique(), fontsize=25, rotation=45)\n",
    "plt.title('Market Share for Each Genre 1995-2017')\n",
    "plt.show()"
   ]
  },
  {
   "cell_type": "code",
   "execution_count": 4,
   "metadata": {},
   "outputs": [
    {
     "data": {
      "image/png": "[encoded data removed]",
      "text/plain": [
       "<matplotlib.figure.Figure at 0x7f5286149f90>"
      ]
     },
     "metadata": {},
     "output_type": "display_data"
    }
   ],
   "source": [
    "\n",
    "objects = ['Python', 'C++', 'Java', 'Perl', 'Scala', 'Lisp'] # X-axis\n",
    "y_pos = np.arange(len(objects))\n",
    "performance = [10,8,6,4,2,1] # Y-axis may be int or float\n",
    " \n",
    "plt.bar(y_pos, performance, align='center', alpha=0.5)\n",
    "plt.xticks(y_pos, objects)\n",
    "plt.ylabel('Usage')\n",
    "plt.title('Programming language usage')\n",
    " \n",
    "plt.show()"
   ]
  },
  {
   "cell_type": "code",
   "execution_count": null,
   "metadata": {
    "collapsed": true
   },
   "outputs": [],
   "source": [
    "objects = district_rel.A2 # X axis\n",
    "y_pos = np.arange(len(objects))\n",
    "performance = district_rel.A15 # Y axis as int or float\n",
    "plt.figure(figsize = (25, 10)) \n",
    "#plt.bar(y_pos, performance, align='center', alpha=0.5)\n",
    "plt.bar(y_pos, performance)\n",
    "plt.xticks(y_pos, objects, fontsize = 8, rotation = 45)\n",
    "plt.ylabel('Crimes')\n",
    "plt.title('No. of committed crimes in Year 95')\n",
    " \n",
    "plt.show()"
   ]
  }
 ],
 "metadata": {
  "kernelspec": {
   "display_name": "Python 3",
   "language": "python",
   "name": "python3"
  },
  "language_info": {
   "codemirror_mode": {
    "name": "ipython",
    "version": 2
   },
   "file_extension": ".py",
   "mimetype": "text/x-python",
   "name": "python",
   "nbconvert_exporter": "python",
   "pygments_lexer": "ipython2",
   "version": "2.7.12"
  }
 },
 "nbformat": 4,
 "nbformat_minor": 2
}
